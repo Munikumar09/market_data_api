{
 "cells": [
  {
   "cell_type": "code",
   "execution_count": 18,
   "metadata": {},
   "outputs": [],
   "source": [
    "from enum import Enum, EnumMeta"
   ]
  },
  {
   "cell_type": "code",
   "execution_count": 11,
   "metadata": {},
   "outputs": [],
   "source": [
    "var = \"FIFTEEN_MINUTE\""
   ]
  },
  {
   "cell_type": "code",
   "execution_count": 19,
   "metadata": {},
   "outputs": [],
   "source": [
    "\n",
    "class CustomEnumMeta(EnumMeta):\n",
    "    def __contains__(cls, member):\n",
    "        return member in cls.__members__.values()"
   ]
  },
  {
   "cell_type": "code",
   "execution_count": 20,
   "metadata": {},
   "outputs": [],
   "source": [
    "\n",
    "# class CustomEnumMeta(EnumMeta):\n",
    "#     def __contains__(cls, member):\n",
    "#         return member in cls.__members__.values()\n",
    "# class CandlestickInterval(Enum, metaclass=CustomEnumMeta):\n",
    "#     ONE_MINUTE = 30\n",
    "#     THREE_MINUTE = 60\n",
    "#     FIVE_MINUTE = 100\n",
    "#     TEN_MINUTE = 100\n",
    "#     FIFTEEN_MINUTE = 200\n",
    "#     THIRTY_MINUTE = 200\n",
    "#     ONE_HOUR = 400\n",
    "#     ONE_DAY = 2000\n",
    "#     @staticmethod\n",
    "#     def validate_interval(self, interval: str):\n",
    "#         original_interval = interval\n",
    "#         interval = interval.upper()\n",
    "#         if interval in CandlestickInterval:\n",
    "#             return interval\n",
    "#         interval = interval.replace(\" \", \"_\")\n",
    "#         if interval in CandlestickInterval:\n",
    "#             return interval\n",
    "#         interval = interval.replace(\"-\", \"_\")\n",
    "#         if interval in CandlestickInterval:\n",
    "#             return interval\n",
    "#         print('exception',original_interval)\n"
   ]
  },
  {
   "cell_type": "code",
   "execution_count": 24,
   "metadata": {},
   "outputs": [
    {
     "ename": "TypeError",
     "evalue": "EnumType.__call__() missing 1 required positional argument: 'value'",
     "output_type": "error",
     "traceback": [
      "\u001b[0;31m---------------------------------------------------------------------------\u001b[0m",
      "\u001b[0;31mTypeError\u001b[0m                                 Traceback (most recent call last)",
      "\u001b[1;32m/home/munikumar/Desktop/market_data_api/practice.ipynb Cell 5\u001b[0m line \u001b[0;36m1\n\u001b[0;32m----> <a href='vscode-notebook-cell:/home/munikumar/Desktop/market_data_api/practice.ipynb#W6sZmlsZQ%3D%3D?line=0'>1</a>\u001b[0m CandlestickInterval()\u001b[39m.\u001b[39mvalidate_interval(interval\u001b[39m=\u001b[39m\u001b[39m'\u001b[39m\u001b[39mOne-minute\u001b[39m\u001b[39m'\u001b[39m)\n",
      "\u001b[0;31mTypeError\u001b[0m: EnumType.__call__() missing 1 required positional argument: 'value'"
     ]
    }
   ],
   "source": [
    "# CandlestickInterval().validate_interval(interval='One-minute')"
   ]
  },
  {
   "cell_type": "code",
   "execution_count": 30,
   "metadata": {},
   "outputs": [
    {
     "name": "stdout",
     "output_type": "stream",
     "text": [
      "CandlestickInterval.ONE_MINUTE\n"
     ]
    }
   ],
   "source": [
    "from enum import Enum\n",
    "\n",
    "class CandlestickInterval(Enum):\n",
    "    \"\"\"\n",
    "    Enumeration class representing candlestick intervals.\n",
    "    \n",
    "    Each member corresponds to a specific time interval and its associated value.\n",
    "    \"\"\"\n",
    "\n",
    "    ONE_MINUTE = 30\n",
    "    THREE_MINUTE = 60\n",
    "    FIVE_MINUTE = 100\n",
    "    TEN_MINUTE = 100\n",
    "    FIFTEEN_MINUTE = 200\n",
    "    THIRTY_MINUTE = 200\n",
    "    ONE_HOUR = 400\n",
    "    ONE_DAY = 2000\n",
    "\n",
    "    @staticmethod\n",
    "    def validate_interval(interval: str) -> 'CandlestickInterval':\n",
    "        \"\"\"\n",
    "        Validates an interval string and returns the corresponding enum member.\n",
    "\n",
    "        Args:\n",
    "            interval (str): The interval string to validate (e.g., \"one minute\", \"15m\").\n",
    "\n",
    "        Returns:\n",
    "            CandlestickInterval: The enum member corresponding to the validated interval.\n",
    "\n",
    "        Raises:\n",
    "            ValueError: If the interval is not a valid enum member.\n",
    "        \"\"\"\n",
    "        try:\n",
    "            # Normalize the interval string\n",
    "            normalized_interval = interval.replace(\" \", \"_\").replace(\"-\", \"_\").upper()\n",
    "            # Return the enum member if valid\n",
    "            return CandlestickInterval[normalized_interval]\n",
    "        except KeyError:\n",
    "            # Raise an exception if the interval is not a valid enum member\n",
    "            raise ValueError(f\"Invalid interval: {interval}\")\n",
    "\n",
    "# Example usage\n",
    "try:\n",
    "    interval = CandlestickInterval.validate_interval(\"one_minute\")\n",
    "    print(interval)  # Output should be CandlestickInterval.ONE_MINUTE\n",
    "except ValueError as e:\n",
    "    print(e)  # Output should be \"Invalid interval: one_minute\" if invalid\n"
   ]
  },
  {
   "cell_type": "code",
   "execution_count": null,
   "metadata": {},
   "outputs": [],
   "source": []
  },
  {
   "cell_type": "code",
   "execution_count": null,
   "metadata": {},
   "outputs": [],
   "source": []
  }
 ],
 "metadata": {
  "kernelspec": {
   "display_name": "stock-data-collector",
   "language": "python",
   "name": "python3"
  },
  "language_info": {
   "codemirror_mode": {
    "name": "ipython",
    "version": 3
   },
   "file_extension": ".py",
   "mimetype": "text/x-python",
   "name": "python",
   "nbconvert_exporter": "python",
   "pygments_lexer": "ipython3",
   "version": "3.11.8"
  },
  "orig_nbformat": 4
 },
 "nbformat": 4,
 "nbformat_minor": 2
}
