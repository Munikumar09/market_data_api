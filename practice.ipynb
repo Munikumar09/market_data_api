{
 "cells": [
  {
   "cell_type": "code",
   "execution_count": 18,
   "metadata": {},
   "outputs": [],
   "source": [
    "from enum import Enum, EnumMeta"
   ]
  },
  {
   "cell_type": "code",
   "execution_count": 12,
   "metadata": {},
   "outputs": [],
   "source": [
    "from enum import Enum\n",
    "\n",
    "# Assuming IntervalNotFoundException is defined elsewhere in your code\n",
    "from app.utils.common.exceptions import IntervalNotFoundException\n",
    "\n",
    "class CandlestickInterval(Enum):\n",
    "    \"\"\"\n",
    "    Enumeration class representing candlestick intervals.\n",
    "\n",
    "    Each member corresponds to a specific time interval and its associated value.\n",
    "    \"\"\"\n",
    "\n",
    "    ONE_MINUTE = 30\n",
    "    THREE_MINUTE = 60\n",
    "    FIVE_MINUTE = 100\n",
    "    TEN_MINUTE = 100\n",
    "    FIFTEEN_MINUTE = 200\n",
    "    THIRTY_MINUTE = 200\n",
    "    ONE_HOUR = 400\n",
    "    ONE_DAY = 2000\n",
    "\n",
    "    # Define possible_input_intervals as a class variable\n",
    "    possible_input_intervals = (\n",
    "        (\"1min\", \"1minute\", \"oneminute\", ONE_MINUTE),\n",
    "        (\"3min\", \"3minute\", \"threeminute\", THREE_MINUTE),\n",
    "        (\"5min\", \"5minute\", \"fiveminute\", FIVE_MINUTE),\n",
    "        (\"10min\", \"10minute\", \"tenminute\", TEN_MINUTE),\n",
    "        (\"15min\", \"15minute\", \"fifteenminute\", FIFTEEN_MINUTE),\n",
    "        (\"30min\", \"30minute\", \"thirtyminute\", THIRTY_MINUTE),\n",
    "        (\"1day\", \"1d\", \"oneday\", ONE_DAY),\n",
    "    )\n",
    "\n",
    "    @staticmethod\n",
    "    def validate_interval(interval: str) -> \"CandlestickInterval\":\n",
    "        \"\"\"\n",
    "        Validates an interval string and returns the corresponding enum member.\n",
    "        \"\"\"\n",
    "        # Normalize the interval string\n",
    "        normalized_interval = (\n",
    "            interval.lower().replace(\" \", \"\").replace(\"-\", \"\").replace(\"_\", \"\")\n",
    "        )\n",
    "        if normalized_interval.endswith(\"s\"):\n",
    "            normalized_interval = normalized_interval[:-1]\n",
    "        for possible_input_interval in CandlestickInterval.possible_input_intervals.value:\n",
    "            if normalized_interval in possible_input_interval:\n",
    "                return CandlestickInterval(possible_input_interval[3])\n",
    "        raise IntervalNotFoundException(interval)\n"
   ]
  },
  {
   "cell_type": "code",
   "execution_count": 13,
   "metadata": {},
   "outputs": [
    {
     "data": {
      "text/plain": [
       "<CandlestickInterval.ONE_MINUTE: 30>"
      ]
     },
     "execution_count": 13,
     "metadata": {},
     "output_type": "execute_result"
    }
   ],
   "source": [
    "CandlestickInterval.validate_interval(interval='One-minute')"
   ]
  },
  {
   "cell_type": "code",
   "execution_count": 19,
   "metadata": {},
   "outputs": [],
   "source": [
    "    for n in range((end_date - start_date).days + 1):\n",
    "        current_date = start_date + timedelta(days=n)\n",
    "        index = bisect_left(holidays_data, current_date.strftime(\"%Y-%m-%d\"))\n",
    "        if (\n",
    "            current_date.weekday() < 5\n",
    "            and index != len(holidays_data)\n",
    "            and holidays_data[index] != current_date.strftime(\"%Y-%m-%d\")\n",
    "        ):\n",
    "            return"
   ]
  },
  {
   "cell_type": "code",
   "execution_count": 4,
   "metadata": {},
   "outputs": [],
   "source": [
    "while current_date <= end_date:\n",
    "        index = bisect_left(holidays_data, current_date.strftime(\"%Y-%m-%d\"))\n",
    "        if (\n",
    "            current_date.weekday() < 5\n",
    "            and index != len(holidays_data)\n",
    "            and holidays_data[index] != current_date.strftime(\"%Y-%m-%d\")\n",
    "        ):\n",
    "            return"
   ]
  },
  {
   "cell_type": "code",
   "execution_count": 7,
   "metadata": {},
   "outputs": [
    {
     "ename": "TypeError",
     "evalue": "'CandlestickInterval' object is not iterable",
     "output_type": "error",
     "traceback": [
      "\u001b[0;31m---------------------------------------------------------------------------\u001b[0m",
      "\u001b[0;31mTypeError\u001b[0m                                 Traceback (most recent call last)",
      "\u001b[1;32m/home/munikumar/Desktop/market_data_api/practice.ipynb Cell 5\u001b[0m line \u001b[0;36m1\n\u001b[0;32m----> <a href='vscode-notebook-cell:/home/munikumar/Desktop/market_data_api/practice.ipynb#W4sZmlsZQ%3D%3D?line=0'>1</a>\u001b[0m CandlestickInterval\u001b[39m.\u001b[39;49mvalidate_interval(interval\u001b[39m=\u001b[39;49m\u001b[39m'\u001b[39;49m\u001b[39mOne-minute\u001b[39;49m\u001b[39m'\u001b[39;49m)\n",
      "\u001b[1;32m/home/munikumar/Desktop/market_data_api/practice.ipynb Cell 5\u001b[0m line \u001b[0;36m4\n\u001b[1;32m     <a href='vscode-notebook-cell:/home/munikumar/Desktop/market_data_api/practice.ipynb#W4sZmlsZQ%3D%3D?line=41'>42</a>\u001b[0m \u001b[39mif\u001b[39;00m normalized_interval\u001b[39m.\u001b[39mendswith(\u001b[39m\"\u001b[39m\u001b[39ms\u001b[39m\u001b[39m\"\u001b[39m):\n\u001b[1;32m     <a href='vscode-notebook-cell:/home/munikumar/Desktop/market_data_api/practice.ipynb#W4sZmlsZQ%3D%3D?line=42'>43</a>\u001b[0m     normalized_interval \u001b[39m=\u001b[39m normalized_interval[:\u001b[39m-\u001b[39m\u001b[39m1\u001b[39m]\n\u001b[0;32m---> <a href='vscode-notebook-cell:/home/munikumar/Desktop/market_data_api/practice.ipynb#W4sZmlsZQ%3D%3D?line=43'>44</a>\u001b[0m \u001b[39mfor\u001b[39;49;00m possible_input_interval \u001b[39min\u001b[39;49;00m CandlestickInterval\u001b[39m.\u001b[39;49mpossible_input_intervals:\n\u001b[1;32m     <a href='vscode-notebook-cell:/home/munikumar/Desktop/market_data_api/practice.ipynb#W4sZmlsZQ%3D%3D?line=44'>45</a>\u001b[0m     \u001b[39mif\u001b[39;49;00m normalized_interval \u001b[39min\u001b[39;49;00m possible_input_interval:\n\u001b[1;32m     <a href='vscode-notebook-cell:/home/munikumar/Desktop/market_data_api/practice.ipynb#W4sZmlsZQ%3D%3D?line=45'>46</a>\u001b[0m         \u001b[39mreturn\u001b[39;49;00m CandlestickInterval[possible_input_interval[\u001b[39m3\u001b[39;49m]]\n",
      "\u001b[0;31mTypeError\u001b[0m: 'CandlestickInterval' object is not iterable"
     ]
    }
   ],
   "source": [
    "CandlestickInterval.validate_interval(interval='One-minute')"
   ]
  },
  {
   "cell_type": "code",
   "execution_count": 30,
   "metadata": {},
   "outputs": [
    {
     "name": "stdout",
     "output_type": "stream",
     "text": [
      "CandlestickInterval.ONE_MINUTE\n"
     ]
    }
   ],
   "source": [
    "from enum import Enum\n",
    "\n",
    "class CandlestickInterval(Enum):\n",
    "    \"\"\"\n",
    "    Enumeration class representing candlestick intervals.\n",
    "    \n",
    "    Each member corresponds to a specific time interval and its associated value.\n",
    "    \"\"\"\n",
    "\n",
    "    ONE_MINUTE = 30\n",
    "    THREE_MINUTE = 60\n",
    "    FIVE_MINUTE = 100\n",
    "    TEN_MINUTE = 100\n",
    "    FIFTEEN_MINUTE = 200\n",
    "    THIRTY_MINUTE = 200\n",
    "    ONE_HOUR = 400\n",
    "    ONE_DAY = 2000\n",
    "\n",
    "    @staticmethod\n",
    "    def validate_interval(interval: str) -> 'CandlestickInterval':\n",
    "        \"\"\"\n",
    "        Validates an interval string and returns the corresponding enum member.\n",
    "\n",
    "        Args:\n",
    "            interval (str): The interval string to validate (e.g., \"one minute\", \"15m\").\n",
    "\n",
    "        Returns:\n",
    "            CandlestickInterval: The enum member corresponding to the validated interval.\n",
    "\n",
    "        Raises:\n",
    "            ValueError: If the interval is not a valid enum member.\n",
    "        \"\"\"\n",
    "        try:\n",
    "            # Normalize the interval string\n",
    "            normalized_interval = interval.replace(\" \", \"_\").replace(\"-\", \"_\").upper()\n",
    "            # Return the enum member if valid\n",
    "            return CandlestickInterval[normalized_interval]\n",
    "        except KeyError:\n",
    "            # Raise an exception if the interval is not a valid enum member\n",
    "            raise ValueError(f\"Invalid interval: {interval}\")\n",
    "\n",
    "# Example usage\n",
    "try:\n",
    "    interval = CandlestickInterval.validate_interval(\"one_minute\")\n",
    "    print(interval)  # Output should be CandlestickInterval.ONE_MINUTE\n",
    "except ValueError as e:\n",
    "    print(e)  # Output should be \"Invalid interval: one_minute\" if invalid\n"
   ]
  },
  {
   "cell_type": "code",
   "execution_count": null,
   "metadata": {},
   "outputs": [],
   "source": []
  },
  {
   "cell_type": "code",
   "execution_count": null,
   "metadata": {},
   "outputs": [],
   "source": []
  }
 ],
 "metadata": {
  "kernelspec": {
   "display_name": "stock-data-collector",
   "language": "python",
   "name": "python3"
  },
  "language_info": {
   "codemirror_mode": {
    "name": "ipython",
    "version": 3
   },
   "file_extension": ".py",
   "mimetype": "text/x-python",
   "name": "python",
   "nbconvert_exporter": "python",
   "pygments_lexer": "ipython3",
   "version": "3.11.8"
  },
  "orig_nbformat": 4
 },
 "nbformat": 4,
 "nbformat_minor": 2
}
